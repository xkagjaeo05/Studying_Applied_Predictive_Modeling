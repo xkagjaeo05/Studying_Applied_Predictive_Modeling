{
 "cells": [
  {
   "cell_type": "markdown",
   "metadata": {},
   "source": [
    "# Import libraries and datasets"
   ]
  },
  {
   "cell_type": "code",
   "execution_count": 51,
   "metadata": {},
   "outputs": [],
   "source": [
    "library(ggplot2)\n",
    "library(dplyr)\n",
    "library(AppliedPredictiveModeling)\n",
    "library(lattice)\n",
    "\n",
    "\n",
    "data(FuelEconomy)"
   ]
  },
  {
   "cell_type": "markdown",
   "metadata": {},
   "source": [
    "### Function for multiplotting"
   ]
  },
  {
   "cell_type": "code",
   "execution_count": 102,
   "metadata": {},
   "outputs": [],
   "source": [
    "multiplot <- function(..., plotlist = NULL, file, cols = 1, layout = NULL) {\n",
    "  require(grid)\n",
    "\n",
    "  plots <- c(list(...), plotlist)\n",
    "\n",
    "  numPlots = length(plots)\n",
    "\n",
    "  if (is.null(layout)) {\n",
    "    layout <- matrix(seq(1, cols * ceiling(numPlots/cols)),\n",
    "                 ncol = cols, nrow = ceiling(numPlots/cols))\n",
    "}\n",
    "\n",
    "if (numPlots == 1) {\n",
    "print(plots[[1]])\n",
    "\n",
    "} else {\n",
    "grid.newpage()\n",
    "pushViewport(viewport(layout = grid.layout(nrow(layout), ncol(layout))))\n",
    "\n",
    "for (i in 1:numPlots) {\n",
    "  matchidx <- as.data.frame(which(layout == i, arr.ind = TRUE))\n",
    "\n",
    "  print(plots[[i]], vp = viewport(layout.pos.row = matchidx$row,\n",
    "                                  layout.pos.col = matchidx$col))\n",
    " }\n",
    "}\n",
    "}"
   ]
  },
  {
   "cell_type": "code",
   "execution_count": 52,
   "metadata": {},
   "outputs": [],
   "source": [
    "# sort each dataset by EngDispl\n",
    "\n",
    "cars2010 <- cars2010[order(cars2010$EngDispl), ]\n",
    "cars2011 <- cars2011[order(cars2011$EngDispl), ]"
   ]
  },
  {
   "cell_type": "code",
   "execution_count": 53,
   "metadata": {},
   "outputs": [],
   "source": [
    "#combine two datasets into one dataframe\n",
    "\n",
    "cars2010a <- cars2010\n",
    "cars2010a$Year <- \"2010 Model Year\"\n",
    "cars2011a <- cars2011\n",
    "cars2011a$Year <- \"2011 Model Year\"\n",
    "\n",
    "plotData <- rbind(cars2010a, cars2011a) #bind rows : same as pd.concat in python"
   ]
  },
  {
   "cell_type": "code",
   "execution_count": 55,
   "metadata": {},
   "outputs": [
    {
     "data": {
      "text/html": [
       "<table>\n",
       "<thead><tr><th></th><th scope=col>EngDispl</th><th scope=col>NumCyl</th><th scope=col>Transmission</th><th scope=col>FE</th><th scope=col>AirAspirationMethod</th><th scope=col>NumGears</th><th scope=col>TransLockup</th><th scope=col>TransCreeperGear</th><th scope=col>DriveDesc</th><th scope=col>IntakeValvePerCyl</th><th scope=col>ExhaustValvesPerCyl</th><th scope=col>CarlineClassDesc</th><th scope=col>VarValveTiming</th><th scope=col>VarValveLift</th><th scope=col>Year</th></tr></thead>\n",
       "<tbody>\n",
       "\t<tr><th scope=row>1130</th><td>1.0               </td><td>3                 </td><td>Other             </td><td>57.8000           </td><td>NaturallyAspirated</td><td>5                 </td><td>1                 </td><td>0                 </td><td>TwoWheelDriveRear </td><td>2                 </td><td>2                 </td><td>2Seaters          </td><td>1                 </td><td>0                 </td><td>2010 Model Year   </td></tr>\n",
       "\t<tr><th scope=row>1131</th><td>1.0               </td><td>3                 </td><td>Other             </td><td>57.8000           </td><td>NaturallyAspirated</td><td>5                 </td><td>1                 </td><td>0                 </td><td>TwoWheelDriveRear </td><td>2                 </td><td>2                 </td><td>2Seaters          </td><td>1                 </td><td>0                 </td><td>2010 Model Year   </td></tr>\n",
       "\t<tr><th scope=row>1279</th><td>1.3               </td><td>2                 </td><td>M6                </td><td>30.2000           </td><td>NaturallyAspirated</td><td>6                 </td><td>0                 </td><td>0                 </td><td>TwoWheelDriveRear </td><td>0                 </td><td>0                 </td><td>SubcompactCars    </td><td>0                 </td><td>0                 </td><td>2010 Model Year   </td></tr>\n",
       "\t<tr><th scope=row>1280</th><td>1.3               </td><td>2                 </td><td>S6                </td><td>32.1000           </td><td>NaturallyAspirated</td><td>6                 </td><td>1                 </td><td>0                 </td><td>TwoWheelDriveRear </td><td>0                 </td><td>0                 </td><td>SubcompactCars    </td><td>0                 </td><td>0                 </td><td>2010 Model Year   </td></tr>\n",
       "\t<tr><th scope=row>1365</th><td>1.3               </td><td>4                 </td><td>AV                </td><td>65.0000           </td><td>NaturallyAspirated</td><td>1                 </td><td>1                 </td><td>0                 </td><td>TwoWheelDriveFront</td><td>1                 </td><td>1                 </td><td>CompactCars       </td><td>1                 </td><td>1                 </td><td>2010 Model Year   </td></tr>\n",
       "\t<tr><th scope=row>1366</th><td>1.3               </td><td>4                 </td><td>Other             </td><td>62.2674           </td><td>NaturallyAspirated</td><td>1                 </td><td>1                 </td><td>0                 </td><td>TwoWheelDriveFront</td><td>1                 </td><td>1                 </td><td>CompactCars       </td><td>1                 </td><td>1                 </td><td>2010 Model Year   </td></tr>\n",
       "</tbody>\n",
       "</table>\n"
      ],
      "text/latex": [
       "\\begin{tabular}{r|lllllllllllllll}\n",
       "  & EngDispl & NumCyl & Transmission & FE & AirAspirationMethod & NumGears & TransLockup & TransCreeperGear & DriveDesc & IntakeValvePerCyl & ExhaustValvesPerCyl & CarlineClassDesc & VarValveTiming & VarValveLift & Year\\\\\n",
       "\\hline\n",
       "\t1130 & 1.0                & 3                  & Other              & 57.8000            & NaturallyAspirated & 5                  & 1                  & 0                  & TwoWheelDriveRear  & 2                  & 2                  & 2Seaters           & 1                  & 0                  & 2010 Model Year   \\\\\n",
       "\t1131 & 1.0                & 3                  & Other              & 57.8000            & NaturallyAspirated & 5                  & 1                  & 0                  & TwoWheelDriveRear  & 2                  & 2                  & 2Seaters           & 1                  & 0                  & 2010 Model Year   \\\\\n",
       "\t1279 & 1.3                & 2                  & M6                 & 30.2000            & NaturallyAspirated & 6                  & 0                  & 0                  & TwoWheelDriveRear  & 0                  & 0                  & SubcompactCars     & 0                  & 0                  & 2010 Model Year   \\\\\n",
       "\t1280 & 1.3                & 2                  & S6                 & 32.1000            & NaturallyAspirated & 6                  & 1                  & 0                  & TwoWheelDriveRear  & 0                  & 0                  & SubcompactCars     & 0                  & 0                  & 2010 Model Year   \\\\\n",
       "\t1365 & 1.3                & 4                  & AV                 & 65.0000            & NaturallyAspirated & 1                  & 1                  & 0                  & TwoWheelDriveFront & 1                  & 1                  & CompactCars        & 1                  & 1                  & 2010 Model Year   \\\\\n",
       "\t1366 & 1.3                & 4                  & Other              & 62.2674            & NaturallyAspirated & 1                  & 1                  & 0                  & TwoWheelDriveFront & 1                  & 1                  & CompactCars        & 1                  & 1                  & 2010 Model Year   \\\\\n",
       "\\end{tabular}\n"
      ],
      "text/markdown": [
       "\n",
       "| <!--/--> | EngDispl | NumCyl | Transmission | FE | AirAspirationMethod | NumGears | TransLockup | TransCreeperGear | DriveDesc | IntakeValvePerCyl | ExhaustValvesPerCyl | CarlineClassDesc | VarValveTiming | VarValveLift | Year | \n",
       "|---|---|---|---|---|---|\n",
       "| 1130 | 1.0                | 3                  | Other              | 57.8000            | NaturallyAspirated | 5                  | 1                  | 0                  | TwoWheelDriveRear  | 2                  | 2                  | 2Seaters           | 1                  | 0                  | 2010 Model Year    | \n",
       "| 1131 | 1.0                | 3                  | Other              | 57.8000            | NaturallyAspirated | 5                  | 1                  | 0                  | TwoWheelDriveRear  | 2                  | 2                  | 2Seaters           | 1                  | 0                  | 2010 Model Year    | \n",
       "| 1279 | 1.3                | 2                  | M6                 | 30.2000            | NaturallyAspirated | 6                  | 0                  | 0                  | TwoWheelDriveRear  | 0                  | 0                  | SubcompactCars     | 0                  | 0                  | 2010 Model Year    | \n",
       "| 1280 | 1.3                | 2                  | S6                 | 32.1000            | NaturallyAspirated | 6                  | 1                  | 0                  | TwoWheelDriveRear  | 0                  | 0                  | SubcompactCars     | 0                  | 0                  | 2010 Model Year    | \n",
       "| 1365 | 1.3                | 4                  | AV                 | 65.0000            | NaturallyAspirated | 1                  | 1                  | 0                  | TwoWheelDriveFront | 1                  | 1                  | CompactCars        | 1                  | 1                  | 2010 Model Year    | \n",
       "| 1366 | 1.3                | 4                  | Other              | 62.2674            | NaturallyAspirated | 1                  | 1                  | 0                  | TwoWheelDriveFront | 1                  | 1                  | CompactCars        | 1                  | 1                  | 2010 Model Year    | \n",
       "\n",
       "\n"
      ],
      "text/plain": [
       "     EngDispl NumCyl Transmission FE      AirAspirationMethod NumGears\n",
       "1130 1.0      3      Other        57.8000 NaturallyAspirated  5       \n",
       "1131 1.0      3      Other        57.8000 NaturallyAspirated  5       \n",
       "1279 1.3      2      M6           30.2000 NaturallyAspirated  6       \n",
       "1280 1.3      2      S6           32.1000 NaturallyAspirated  6       \n",
       "1365 1.3      4      AV           65.0000 NaturallyAspirated  1       \n",
       "1366 1.3      4      Other        62.2674 NaturallyAspirated  1       \n",
       "     TransLockup TransCreeperGear DriveDesc          IntakeValvePerCyl\n",
       "1130 1           0                TwoWheelDriveRear  2                \n",
       "1131 1           0                TwoWheelDriveRear  2                \n",
       "1279 0           0                TwoWheelDriveRear  0                \n",
       "1280 1           0                TwoWheelDriveRear  0                \n",
       "1365 1           0                TwoWheelDriveFront 1                \n",
       "1366 1           0                TwoWheelDriveFront 1                \n",
       "     ExhaustValvesPerCyl CarlineClassDesc VarValveTiming VarValveLift\n",
       "1130 2                   2Seaters         1              0           \n",
       "1131 2                   2Seaters         1              0           \n",
       "1279 0                   SubcompactCars   0              0           \n",
       "1280 0                   SubcompactCars   0              0           \n",
       "1365 1                   CompactCars      1              1           \n",
       "1366 1                   CompactCars      1              1           \n",
       "     Year           \n",
       "1130 2010 Model Year\n",
       "1131 2010 Model Year\n",
       "1279 2010 Model Year\n",
       "1280 2010 Model Year\n",
       "1365 2010 Model Year\n",
       "1366 2010 Model Year"
      ]
     },
     "metadata": {},
     "output_type": "display_data"
    }
   ],
   "source": [
    "head(plotData)"
   ]
  },
  {
   "cell_type": "code",
   "execution_count": 69,
   "metadata": {},
   "outputs": [
    {
     "data": {},
     "metadata": {},
     "output_type": "display_data"
    },
    {
     "data": {
      "image/png": "[encoded data removed]",
      "text/plain": [
       "plot without title"
      ]
     },
     "metadata": {},
     "output_type": "display_data"
    }
   ],
   "source": [
    "options(figure.width = 12, figure.height=5)\n",
    "\n",
    "xyplot(FE~EngDispl|Year, data = plotData,\n",
    "           xlab = \"Engine Displacement\", \n",
    "           ylab = \"Fuel Efficiency (MPG)\", \n",
    "           between = list(x=1.2))"
   ]
  },
  {
   "cell_type": "markdown",
   "metadata": {},
   "source": [
    "There'e is negative correlation between two variables.  However, at the end point, the value of the FE goes up as Engine Displacement level increases. Normal linear model cannot catch this change so it'd be greater to use more advanced version than just normal linear model."
   ]
  },
  {
   "cell_type": "code",
   "execution_count": 73,
   "metadata": {},
   "outputs": [],
   "source": [
    "# Fir a single linear model and conduct 10-fold CV to estimate the error\n",
    "library(caret)\n",
    "\n",
    "set.seed(1)\n",
    "lm1Fit <-  train(FE~ EngDispl,\n",
    "                 data = cars2010, \n",
    "                 method = 'lm', \n",
    "                 trControl = trainControl(method='cv'))  #conduct cross-validation using training dataset(default = 10)"
   ]
  },
  {
   "cell_type": "code",
   "execution_count": 74,
   "metadata": {},
   "outputs": [
    {
     "data": {
      "text/plain": [
       "Linear Regression \n",
       "\n",
       "1107 samples\n",
       "   1 predictor\n",
       "\n",
       "No pre-processing\n",
       "Resampling: Cross-Validated (10 fold) \n",
       "Summary of sample sizes: 997, 996, 996, 997, 995, 997, ... \n",
       "Resampling results:\n",
       "\n",
       "  RMSE      Rsquared   MAE     \n",
       "  4.617947  0.6271384  3.519007\n",
       "\n",
       "Tuning parameter 'intercept' was held constant at a value of TRUE"
      ]
     },
     "metadata": {},
     "output_type": "display_data"
    }
   ],
   "source": [
    "lm1Fit"
   ]
  },
  {
   "cell_type": "code",
   "execution_count": 98,
   "metadata": {},
   "outputs": [],
   "source": [
    "cars2010$lm1 <- predict(lm1Fit, cars2010)"
   ]
  },
  {
   "cell_type": "code",
   "execution_count": 99,
   "metadata": {},
   "outputs": [
    {
     "data": {
      "text/html": [
       "<table>\n",
       "<thead><tr><th></th><th scope=col>EngDispl</th><th scope=col>NumCyl</th><th scope=col>Transmission</th><th scope=col>FE</th><th scope=col>AirAspirationMethod</th><th scope=col>NumGears</th><th scope=col>TransLockup</th><th scope=col>TransCreeperGear</th><th scope=col>DriveDesc</th><th scope=col>IntakeValvePerCyl</th><th scope=col>ExhaustValvesPerCyl</th><th scope=col>CarlineClassDesc</th><th scope=col>VarValveTiming</th><th scope=col>VarValveLift</th><th scope=col>ED2</th><th scope=col>lm1</th></tr></thead>\n",
       "<tbody>\n",
       "\t<tr><th scope=row>1130</th><td>1.0               </td><td>3                 </td><td>Other             </td><td>57.8000           </td><td>NaturallyAspirated</td><td>5                 </td><td>1                 </td><td>0                 </td><td>TwoWheelDriveRear </td><td>2                 </td><td>2                 </td><td>2Seaters          </td><td>1                 </td><td>0                 </td><td>1.00              </td><td>46.04230          </td></tr>\n",
       "\t<tr><th scope=row>1131</th><td>1.0               </td><td>3                 </td><td>Other             </td><td>57.8000           </td><td>NaturallyAspirated</td><td>5                 </td><td>1                 </td><td>0                 </td><td>TwoWheelDriveRear </td><td>2                 </td><td>2                 </td><td>2Seaters          </td><td>1                 </td><td>0                 </td><td>1.00              </td><td>46.04230          </td></tr>\n",
       "\t<tr><th scope=row>1279</th><td>1.3               </td><td>2                 </td><td>M6                </td><td>30.2000           </td><td>NaturallyAspirated</td><td>6                 </td><td>0                 </td><td>0                 </td><td>TwoWheelDriveRear </td><td>0                 </td><td>0                 </td><td>SubcompactCars    </td><td>0                 </td><td>0                 </td><td>1.69              </td><td>44.68602          </td></tr>\n",
       "\t<tr><th scope=row>1280</th><td>1.3               </td><td>2                 </td><td>S6                </td><td>32.1000           </td><td>NaturallyAspirated</td><td>6                 </td><td>1                 </td><td>0                 </td><td>TwoWheelDriveRear </td><td>0                 </td><td>0                 </td><td>SubcompactCars    </td><td>0                 </td><td>0                 </td><td>1.69              </td><td>44.68602          </td></tr>\n",
       "\t<tr><th scope=row>1365</th><td>1.3               </td><td>4                 </td><td>AV                </td><td>65.0000           </td><td>NaturallyAspirated</td><td>1                 </td><td>1                 </td><td>0                 </td><td>TwoWheelDriveFront</td><td>1                 </td><td>1                 </td><td>CompactCars       </td><td>1                 </td><td>1                 </td><td>1.69              </td><td>44.68602          </td></tr>\n",
       "\t<tr><th scope=row>1366</th><td>1.3               </td><td>4                 </td><td>Other             </td><td>62.2674           </td><td>NaturallyAspirated</td><td>1                 </td><td>1                 </td><td>0                 </td><td>TwoWheelDriveFront</td><td>1                 </td><td>1                 </td><td>CompactCars       </td><td>1                 </td><td>1                 </td><td>1.69              </td><td>44.68602          </td></tr>\n",
       "</tbody>\n",
       "</table>\n"
      ],
      "text/latex": [
       "\\begin{tabular}{r|llllllllllllllll}\n",
       "  & EngDispl & NumCyl & Transmission & FE & AirAspirationMethod & NumGears & TransLockup & TransCreeperGear & DriveDesc & IntakeValvePerCyl & ExhaustValvesPerCyl & CarlineClassDesc & VarValveTiming & VarValveLift & ED2 & lm1\\\\\n",
       "\\hline\n",
       "\t1130 & 1.0                & 3                  & Other              & 57.8000            & NaturallyAspirated & 5                  & 1                  & 0                  & TwoWheelDriveRear  & 2                  & 2                  & 2Seaters           & 1                  & 0                  & 1.00               & 46.04230          \\\\\n",
       "\t1131 & 1.0                & 3                  & Other              & 57.8000            & NaturallyAspirated & 5                  & 1                  & 0                  & TwoWheelDriveRear  & 2                  & 2                  & 2Seaters           & 1                  & 0                  & 1.00               & 46.04230          \\\\\n",
       "\t1279 & 1.3                & 2                  & M6                 & 30.2000            & NaturallyAspirated & 6                  & 0                  & 0                  & TwoWheelDriveRear  & 0                  & 0                  & SubcompactCars     & 0                  & 0                  & 1.69               & 44.68602          \\\\\n",
       "\t1280 & 1.3                & 2                  & S6                 & 32.1000            & NaturallyAspirated & 6                  & 1                  & 0                  & TwoWheelDriveRear  & 0                  & 0                  & SubcompactCars     & 0                  & 0                  & 1.69               & 44.68602          \\\\\n",
       "\t1365 & 1.3                & 4                  & AV                 & 65.0000            & NaturallyAspirated & 1                  & 1                  & 0                  & TwoWheelDriveFront & 1                  & 1                  & CompactCars        & 1                  & 1                  & 1.69               & 44.68602          \\\\\n",
       "\t1366 & 1.3                & 4                  & Other              & 62.2674            & NaturallyAspirated & 1                  & 1                  & 0                  & TwoWheelDriveFront & 1                  & 1                  & CompactCars        & 1                  & 1                  & 1.69               & 44.68602          \\\\\n",
       "\\end{tabular}\n"
      ],
      "text/markdown": [
       "\n",
       "| <!--/--> | EngDispl | NumCyl | Transmission | FE | AirAspirationMethod | NumGears | TransLockup | TransCreeperGear | DriveDesc | IntakeValvePerCyl | ExhaustValvesPerCyl | CarlineClassDesc | VarValveTiming | VarValveLift | ED2 | lm1 | \n",
       "|---|---|---|---|---|---|\n",
       "| 1130 | 1.0                | 3                  | Other              | 57.8000            | NaturallyAspirated | 5                  | 1                  | 0                  | TwoWheelDriveRear  | 2                  | 2                  | 2Seaters           | 1                  | 0                  | 1.00               | 46.04230           | \n",
       "| 1131 | 1.0                | 3                  | Other              | 57.8000            | NaturallyAspirated | 5                  | 1                  | 0                  | TwoWheelDriveRear  | 2                  | 2                  | 2Seaters           | 1                  | 0                  | 1.00               | 46.04230           | \n",
       "| 1279 | 1.3                | 2                  | M6                 | 30.2000            | NaturallyAspirated | 6                  | 0                  | 0                  | TwoWheelDriveRear  | 0                  | 0                  | SubcompactCars     | 0                  | 0                  | 1.69               | 44.68602           | \n",
       "| 1280 | 1.3                | 2                  | S6                 | 32.1000            | NaturallyAspirated | 6                  | 1                  | 0                  | TwoWheelDriveRear  | 0                  | 0                  | SubcompactCars     | 0                  | 0                  | 1.69               | 44.68602           | \n",
       "| 1365 | 1.3                | 4                  | AV                 | 65.0000            | NaturallyAspirated | 1                  | 1                  | 0                  | TwoWheelDriveFront | 1                  | 1                  | CompactCars        | 1                  | 1                  | 1.69               | 44.68602           | \n",
       "| 1366 | 1.3                | 4                  | Other              | 62.2674            | NaturallyAspirated | 1                  | 1                  | 0                  | TwoWheelDriveFront | 1                  | 1                  | CompactCars        | 1                  | 1                  | 1.69               | 44.68602           | \n",
       "\n",
       "\n"
      ],
      "text/plain": [
       "     EngDispl NumCyl Transmission FE      AirAspirationMethod NumGears\n",
       "1130 1.0      3      Other        57.8000 NaturallyAspirated  5       \n",
       "1131 1.0      3      Other        57.8000 NaturallyAspirated  5       \n",
       "1279 1.3      2      M6           30.2000 NaturallyAspirated  6       \n",
       "1280 1.3      2      S6           32.1000 NaturallyAspirated  6       \n",
       "1365 1.3      4      AV           65.0000 NaturallyAspirated  1       \n",
       "1366 1.3      4      Other        62.2674 NaturallyAspirated  1       \n",
       "     TransLockup TransCreeperGear DriveDesc          IntakeValvePerCyl\n",
       "1130 1           0                TwoWheelDriveRear  2                \n",
       "1131 1           0                TwoWheelDriveRear  2                \n",
       "1279 0           0                TwoWheelDriveRear  0                \n",
       "1280 1           0                TwoWheelDriveRear  0                \n",
       "1365 1           0                TwoWheelDriveFront 1                \n",
       "1366 1           0                TwoWheelDriveFront 1                \n",
       "     ExhaustValvesPerCyl CarlineClassDesc VarValveTiming VarValveLift ED2 \n",
       "1130 2                   2Seaters         1              0            1.00\n",
       "1131 2                   2Seaters         1              0            1.00\n",
       "1279 0                   SubcompactCars   0              0            1.69\n",
       "1280 0                   SubcompactCars   0              0            1.69\n",
       "1365 1                   CompactCars      1              1            1.69\n",
       "1366 1                   CompactCars      1              1            1.69\n",
       "     lm1     \n",
       "1130 46.04230\n",
       "1131 46.04230\n",
       "1279 44.68602\n",
       "1280 44.68602\n",
       "1365 44.68602\n",
       "1366 44.68602"
      ]
     },
     "metadata": {},
     "output_type": "display_data"
    }
   ],
   "source": [
    "head(cars2010)"
   ]
  },
  {
   "cell_type": "code",
   "execution_count": 178,
   "metadata": {},
   "outputs": [
    {
     "data": {
      "image/png": "[encoded data removed]",
      "text/plain": [
       "plot without title"
      ]
     },
     "metadata": {},
     "output_type": "display_data"
    }
   ],
   "source": [
    "options(repr.plot.width=7, repr.plot.height=3)\n",
    "\n",
    "p1 <- ggplot(data= cars2010, aes(EngDispl, FE))  + \n",
    "            geom_point() + geom_smooth(method='lm') +\n",
    "             ggtitle('Relationship Between EngDispl and FE \\nplotting Its linear regression')\n",
    "\n",
    "p2 <-ggplot(data=cars2010) + \n",
    "            geom_point(aes(FE, lm1)) + geom_abline(colour = 'blue', size=1.5)+\n",
    "                ylab('Predicted Value') + xlab('Real Value') + ggtitle('Real vs Predicted value of Fuel Efficiency')\n",
    "\n",
    "\n",
    "layout <- matrix(c(1,2),1,2,byrow=TRUE)\n",
    "multiplot(p1, p2,  layout=layout)"
   ]
  },
  {
   "cell_type": "code",
   "execution_count": 124,
   "metadata": {},
   "outputs": [
    {
     "data": {
      "text/plain": [
       "\n",
       "Call:\n",
       "lm(formula = FE ~ EngDispl, data = cars2010)\n",
       "\n",
       "Coefficients:\n",
       "(Intercept)     EngDispl  \n",
       "     50.563       -4.521  \n"
      ]
     },
     "metadata": {},
     "output_type": "display_data"
    }
   ],
   "source": [
    "lm1 <- lm(FE ~ EngDispl, data= cars2010)\n",
    "lm1"
   ]
  },
  {
   "cell_type": "markdown",
   "metadata": {},
   "source": [
    "The left plot shows the relationship between FE and EnglDispl. These two has the negatively correlated. The intercept is 50.563 and the slope is about -4.5. As I mentioned above, the problem of linear regression in this model is that the model cannot capture the increasing level of FE when EngDispl is above 6. So if you see the right plot, you can observe that our model is doing pretty well when the target value is below 50. However, as soon as it surpasses this number, our model predicted much lower value than the actual one. Solution for  this problem can be adding much more feature  or using non-linear model , ect.\n"
   ]
  },
  {
   "cell_type": "code",
   "execution_count": 125,
   "metadata": {},
   "outputs": [
    {
     "data": {
      "text/plain": [
       "Linear Regression \n",
       "\n",
       "1107 samples\n",
       "   2 predictor\n",
       "\n",
       "No pre-processing\n",
       "Resampling: Cross-Validated (10 fold) \n",
       "Summary of sample sizes: 997, 996, 996, 997, 995, 997, ... \n",
       "Resampling results:\n",
       "\n",
       "  RMSE      Rsquared   MAE     \n",
       "  4.232604  0.6837765  3.236312\n",
       "\n",
       "Tuning parameter 'intercept' was held constant at a value of TRUE"
      ]
     },
     "metadata": {},
     "output_type": "display_data"
    }
   ],
   "source": [
    "#Fit a quadratic model this time\n",
    "\n",
    "cars2010$ED2 <- cars2010$EngDispl **2\n",
    "cars2011$ED2 <- cars2011$EngDispl **2\n",
    "\n",
    "set.seed(1)\n",
    "\n",
    "lm2Fit <- train(FE~ EngDispl + ED2, \n",
    "                         data = cars2010,  \n",
    "                         method = 'lm',\n",
    "                         trControl = trainControl(method ='cv') )\n",
    "\n",
    "lm2Fit"
   ]
  },
  {
   "cell_type": "code",
   "execution_count": 129,
   "metadata": {},
   "outputs": [],
   "source": [
    "cars2010$poly <- predict(lm2Fit, cars2010)\n",
    "cars2011$poly <- predict(lm2Fit, cars2011)"
   ]
  },
  {
   "cell_type": "code",
   "execution_count": 130,
   "metadata": {},
   "outputs": [
    {
     "data": {
      "text/html": [
       "<table>\n",
       "<thead><tr><th></th><th scope=col>EngDispl</th><th scope=col>NumCyl</th><th scope=col>Transmission</th><th scope=col>FE</th><th scope=col>AirAspirationMethod</th><th scope=col>NumGears</th><th scope=col>TransLockup</th><th scope=col>TransCreeperGear</th><th scope=col>DriveDesc</th><th scope=col>IntakeValvePerCyl</th><th scope=col>ExhaustValvesPerCyl</th><th scope=col>CarlineClassDesc</th><th scope=col>VarValveTiming</th><th scope=col>VarValveLift</th><th scope=col>ED2</th><th scope=col>lm1</th><th scope=col>poly</th></tr></thead>\n",
       "<tbody>\n",
       "\t<tr><th scope=row>1130</th><td>1.0               </td><td>3                 </td><td>Other             </td><td>57.8000           </td><td>NaturallyAspirated</td><td>5                 </td><td>1                 </td><td>0                 </td><td>TwoWheelDriveRear </td><td>2                 </td><td>2                 </td><td>2Seaters          </td><td>1                 </td><td>0                 </td><td>1.00              </td><td>46.04230          </td><td>52.30115          </td></tr>\n",
       "\t<tr><th scope=row>1131</th><td>1.0               </td><td>3                 </td><td>Other             </td><td>57.8000           </td><td>NaturallyAspirated</td><td>5                 </td><td>1                 </td><td>0                 </td><td>TwoWheelDriveRear </td><td>2                 </td><td>2                 </td><td>2Seaters          </td><td>1                 </td><td>0                 </td><td>1.00              </td><td>46.04230          </td><td>52.30115          </td></tr>\n",
       "\t<tr><th scope=row>1279</th><td>1.3               </td><td>2                 </td><td>M6                </td><td>30.2000           </td><td>NaturallyAspirated</td><td>6                 </td><td>0                 </td><td>0                 </td><td>TwoWheelDriveRear </td><td>0                 </td><td>0                 </td><td>SubcompactCars    </td><td>0                 </td><td>0                 </td><td>1.69              </td><td>44.68602          </td><td>49.38615          </td></tr>\n",
       "\t<tr><th scope=row>1280</th><td>1.3               </td><td>2                 </td><td>S6                </td><td>32.1000           </td><td>NaturallyAspirated</td><td>6                 </td><td>1                 </td><td>0                 </td><td>TwoWheelDriveRear </td><td>0                 </td><td>0                 </td><td>SubcompactCars    </td><td>0                 </td><td>0                 </td><td>1.69              </td><td>44.68602          </td><td>49.38615          </td></tr>\n",
       "\t<tr><th scope=row>1365</th><td>1.3               </td><td>4                 </td><td>AV                </td><td>65.0000           </td><td>NaturallyAspirated</td><td>1                 </td><td>1                 </td><td>0                 </td><td>TwoWheelDriveFront</td><td>1                 </td><td>1                 </td><td>CompactCars       </td><td>1                 </td><td>1                 </td><td>1.69              </td><td>44.68602          </td><td>49.38615          </td></tr>\n",
       "\t<tr><th scope=row>1366</th><td>1.3               </td><td>4                 </td><td>Other             </td><td>62.2674           </td><td>NaturallyAspirated</td><td>1                 </td><td>1                 </td><td>0                 </td><td>TwoWheelDriveFront</td><td>1                 </td><td>1                 </td><td>CompactCars       </td><td>1                 </td><td>1                 </td><td>1.69              </td><td>44.68602          </td><td>49.38615          </td></tr>\n",
       "</tbody>\n",
       "</table>\n"
      ],
      "text/latex": [
       "\\begin{tabular}{r|lllllllllllllllll}\n",
       "  & EngDispl & NumCyl & Transmission & FE & AirAspirationMethod & NumGears & TransLockup & TransCreeperGear & DriveDesc & IntakeValvePerCyl & ExhaustValvesPerCyl & CarlineClassDesc & VarValveTiming & VarValveLift & ED2 & lm1 & poly\\\\\n",
       "\\hline\n",
       "\t1130 & 1.0                & 3                  & Other              & 57.8000            & NaturallyAspirated & 5                  & 1                  & 0                  & TwoWheelDriveRear  & 2                  & 2                  & 2Seaters           & 1                  & 0                  & 1.00               & 46.04230           & 52.30115          \\\\\n",
       "\t1131 & 1.0                & 3                  & Other              & 57.8000            & NaturallyAspirated & 5                  & 1                  & 0                  & TwoWheelDriveRear  & 2                  & 2                  & 2Seaters           & 1                  & 0                  & 1.00               & 46.04230           & 52.30115          \\\\\n",
       "\t1279 & 1.3                & 2                  & M6                 & 30.2000            & NaturallyAspirated & 6                  & 0                  & 0                  & TwoWheelDriveRear  & 0                  & 0                  & SubcompactCars     & 0                  & 0                  & 1.69               & 44.68602           & 49.38615          \\\\\n",
       "\t1280 & 1.3                & 2                  & S6                 & 32.1000            & NaturallyAspirated & 6                  & 1                  & 0                  & TwoWheelDriveRear  & 0                  & 0                  & SubcompactCars     & 0                  & 0                  & 1.69               & 44.68602           & 49.38615          \\\\\n",
       "\t1365 & 1.3                & 4                  & AV                 & 65.0000            & NaturallyAspirated & 1                  & 1                  & 0                  & TwoWheelDriveFront & 1                  & 1                  & CompactCars        & 1                  & 1                  & 1.69               & 44.68602           & 49.38615          \\\\\n",
       "\t1366 & 1.3                & 4                  & Other              & 62.2674            & NaturallyAspirated & 1                  & 1                  & 0                  & TwoWheelDriveFront & 1                  & 1                  & CompactCars        & 1                  & 1                  & 1.69               & 44.68602           & 49.38615          \\\\\n",
       "\\end{tabular}\n"
      ],
      "text/markdown": [
       "\n",
       "| <!--/--> | EngDispl | NumCyl | Transmission | FE | AirAspirationMethod | NumGears | TransLockup | TransCreeperGear | DriveDesc | IntakeValvePerCyl | ExhaustValvesPerCyl | CarlineClassDesc | VarValveTiming | VarValveLift | ED2 | lm1 | poly | \n",
       "|---|---|---|---|---|---|\n",
       "| 1130 | 1.0                | 3                  | Other              | 57.8000            | NaturallyAspirated | 5                  | 1                  | 0                  | TwoWheelDriveRear  | 2                  | 2                  | 2Seaters           | 1                  | 0                  | 1.00               | 46.04230           | 52.30115           | \n",
       "| 1131 | 1.0                | 3                  | Other              | 57.8000            | NaturallyAspirated | 5                  | 1                  | 0                  | TwoWheelDriveRear  | 2                  | 2                  | 2Seaters           | 1                  | 0                  | 1.00               | 46.04230           | 52.30115           | \n",
       "| 1279 | 1.3                | 2                  | M6                 | 30.2000            | NaturallyAspirated | 6                  | 0                  | 0                  | TwoWheelDriveRear  | 0                  | 0                  | SubcompactCars     | 0                  | 0                  | 1.69               | 44.68602           | 49.38615           | \n",
       "| 1280 | 1.3                | 2                  | S6                 | 32.1000            | NaturallyAspirated | 6                  | 1                  | 0                  | TwoWheelDriveRear  | 0                  | 0                  | SubcompactCars     | 0                  | 0                  | 1.69               | 44.68602           | 49.38615           | \n",
       "| 1365 | 1.3                | 4                  | AV                 | 65.0000            | NaturallyAspirated | 1                  | 1                  | 0                  | TwoWheelDriveFront | 1                  | 1                  | CompactCars        | 1                  | 1                  | 1.69               | 44.68602           | 49.38615           | \n",
       "| 1366 | 1.3                | 4                  | Other              | 62.2674            | NaturallyAspirated | 1                  | 1                  | 0                  | TwoWheelDriveFront | 1                  | 1                  | CompactCars        | 1                  | 1                  | 1.69               | 44.68602           | 49.38615           | \n",
       "\n",
       "\n"
      ],
      "text/plain": [
       "     EngDispl NumCyl Transmission FE      AirAspirationMethod NumGears\n",
       "1130 1.0      3      Other        57.8000 NaturallyAspirated  5       \n",
       "1131 1.0      3      Other        57.8000 NaturallyAspirated  5       \n",
       "1279 1.3      2      M6           30.2000 NaturallyAspirated  6       \n",
       "1280 1.3      2      S6           32.1000 NaturallyAspirated  6       \n",
       "1365 1.3      4      AV           65.0000 NaturallyAspirated  1       \n",
       "1366 1.3      4      Other        62.2674 NaturallyAspirated  1       \n",
       "     TransLockup TransCreeperGear DriveDesc          IntakeValvePerCyl\n",
       "1130 1           0                TwoWheelDriveRear  2                \n",
       "1131 1           0                TwoWheelDriveRear  2                \n",
       "1279 0           0                TwoWheelDriveRear  0                \n",
       "1280 1           0                TwoWheelDriveRear  0                \n",
       "1365 1           0                TwoWheelDriveFront 1                \n",
       "1366 1           0                TwoWheelDriveFront 1                \n",
       "     ExhaustValvesPerCyl CarlineClassDesc VarValveTiming VarValveLift ED2 \n",
       "1130 2                   2Seaters         1              0            1.00\n",
       "1131 2                   2Seaters         1              0            1.00\n",
       "1279 0                   SubcompactCars   0              0            1.69\n",
       "1280 0                   SubcompactCars   0              0            1.69\n",
       "1365 1                   CompactCars      1              1            1.69\n",
       "1366 1                   CompactCars      1              1            1.69\n",
       "     lm1      poly    \n",
       "1130 46.04230 52.30115\n",
       "1131 46.04230 52.30115\n",
       "1279 44.68602 49.38615\n",
       "1280 44.68602 49.38615\n",
       "1365 44.68602 49.38615\n",
       "1366 44.68602 49.38615"
      ]
     },
     "metadata": {},
     "output_type": "display_data"
    }
   ],
   "source": [
    "head(cars2010)"
   ]
  },
  {
   "cell_type": "code",
   "execution_count": 161,
   "metadata": {},
   "outputs": [
    {
     "data": {
      "image/png": "[encoded data removed]",
      "text/plain": [
       "plot without title"
      ]
     },
     "metadata": {},
     "output_type": "display_data"
    }
   ],
   "source": [
    "options(repr.plot.width=6, repr.plot.height=3)\n",
    "\n",
    "p1 <- ggplot(cars2010) + geom_point(aes(EngDispl,FE)) + geom_line(aes(EngDispl,poly),colour='blue', size=2) +\n",
    "                     ggtitle('Relationship Between EngDispl and FE \\nplotting its polynomial regression')\n",
    "\n",
    "p2 <- ggplot(data= cars2010, aes(FE, poly))  + \n",
    "            geom_point() + geom_smooth(method='lm') +\n",
    "                ylab('Predicted Value') + xlab('Real Value') + ggtitle('Real vs Predicted value of Fuel Efficiency')\n",
    "\n",
    "layout <- matrix(c(1,2),1,2,byrow=TRUE)\n",
    "multiplot(p1, p2,  layout=layout)"
   ]
  },
  {
   "cell_type": "markdown",
   "metadata": {},
   "source": [
    "The problem of this model is predicting too high for explanatory values above 7. Here, we're going to use MARS(Multivariate Adaptive Regression Spline) to improve this polynomial model. MARS gets its best model by searching the best spline of the singular variable (EngDispl , in this case). One of the drawback of MARS is that there is no way for us to find how many splines is needed. So it has the intrinsic algorithm to find the best parameter. You can see the best RMSE for MARS is about 4.22, and this is the best model MARS is going to use when predicting the target value. "
   ]
  },
  {
   "cell_type": "code",
   "execution_count": 163,
   "metadata": {},
   "outputs": [
    {
     "data": {
      "text/plain": [
       "Multivariate Adaptive Regression Spline \n",
       "\n",
       "1107 samples\n",
       "   1 predictor\n",
       "\n",
       "No pre-processing\n",
       "Resampling: Cross-Validated (10 fold) \n",
       "Summary of sample sizes: 997, 996, 996, 997, 995, 997, ... \n",
       "Resampling results across tuning parameters:\n",
       "\n",
       "  nprune  RMSE      Rsquared   MAE     \n",
       "  2       4.301139  0.6731346  3.313975\n",
       "  3       4.260743  0.6793933  3.274158\n",
       "  4       4.229296  0.6842278  3.224616\n",
       "  5       4.220445  0.6856784  3.202756\n",
       "\n",
       "Tuning parameter 'degree' was held constant at a value of 1\n",
       "RMSE was used to select the optimal model using the smallest value.\n",
       "The final values used for the model were nprune = 5 and degree = 1."
      ]
     },
     "metadata": {},
     "output_type": "display_data"
    },
    {
     "data": {},
     "metadata": {},
     "output_type": "display_data"
    },
    {
     "data": {
      "image/png": "[encoded data removed]",
      "text/plain": [
       "plot without title"
      ]
     },
     "metadata": {},
     "output_type": "display_data"
    }
   ],
   "source": [
    "library(earth)\n",
    "set.seed(1)\n",
    "marsFit <- train(FE ~ EngDispl, \n",
    "                 data = cars2010,\n",
    "                 method = \"earth\",\n",
    "                 tuneLength = 15,\n",
    "                 trControl = trainControl(method= \"cv\"))\n",
    "marsFit\n",
    "\n",
    "plot(marsFit)"
   ]
  },
  {
   "cell_type": "code",
   "execution_count": 166,
   "metadata": {},
   "outputs": [],
   "source": [
    "cars2010$mars <- predict(marsFit, cars2010)\n",
    "cars2011$mars <- predict(marsFit, cars2011)"
   ]
  },
  {
   "cell_type": "code",
   "execution_count": 176,
   "metadata": {},
   "outputs": [
    {
     "data": {
      "image/png": "[encoded data removed]",
      "text/plain": [
       "plot without title"
      ]
     },
     "metadata": {},
     "output_type": "display_data"
    }
   ],
   "source": [
    "options(repr.plot.width=6, repr.plot.height=3)\n",
    "\n",
    "p1 <- ggplot(cars2010) + geom_point(aes(EngDispl,FE)) + geom_line(aes(EngDispl,mars),colour='blue', size=2) +\n",
    "                     ggtitle('Relationship Between EngDispl and FE \\nplotting its polynomial regression')\n",
    "\n",
    "p2 <-p2 <-ggplot(data=cars2010) + \n",
    "            geom_point(aes(FE, mars)) + geom_abline(colour = 'blue', size=1.5)+\n",
    "                ylab('Predicted Value') + xlab('Real Value') + ggtitle('Real vs Predicted value of Fuel Efficiency')\n",
    "\n",
    "\n",
    "layout <- matrix(c(1,2),1,2,byrow=TRUE)\n",
    "multiplot(p1, p2,  layout=layout)"
   ]
  },
  {
   "cell_type": "code",
   "execution_count": 185,
   "metadata": {},
   "outputs": [
    {
     "data": {
      "text/plain": [
       "Linear Regression \n",
       "\n",
       "1107 samples\n",
       "   1 predictor\n",
       "\n",
       "No pre-processing\n",
       "Resampling: Cross-Validated (10 fold) \n",
       "Summary of sample sizes: 997, 996, 996, 997, 995, 997, ... \n",
       "Resampling results:\n",
       "\n",
       "  RMSE      Rsquared   MAE     \n",
       "  4.617947  0.6271384  3.519007\n",
       "\n",
       "Tuning parameter 'intercept' was held constant at a value of TRUE"
      ]
     },
     "metadata": {},
     "output_type": "display_data"
    },
    {
     "name": "stdout",
     "output_type": "stream",
     "text": [
      "[1] \"********************************************************\"\n"
     ]
    },
    {
     "data": {
      "text/plain": [
       "Linear Regression \n",
       "\n",
       "1107 samples\n",
       "   2 predictor\n",
       "\n",
       "No pre-processing\n",
       "Resampling: Cross-Validated (10 fold) \n",
       "Summary of sample sizes: 997, 996, 996, 997, 995, 997, ... \n",
       "Resampling results:\n",
       "\n",
       "  RMSE      Rsquared   MAE     \n",
       "  4.232604  0.6837765  3.236312\n",
       "\n",
       "Tuning parameter 'intercept' was held constant at a value of TRUE"
      ]
     },
     "metadata": {},
     "output_type": "display_data"
    },
    {
     "name": "stdout",
     "output_type": "stream",
     "text": [
      "[1] \"********************************************************\"\n"
     ]
    },
    {
     "data": {
      "text/plain": [
       "Multivariate Adaptive Regression Spline \n",
       "\n",
       "1107 samples\n",
       "   1 predictor\n",
       "\n",
       "No pre-processing\n",
       "Resampling: Cross-Validated (10 fold) \n",
       "Summary of sample sizes: 997, 996, 996, 997, 995, 997, ... \n",
       "Resampling results across tuning parameters:\n",
       "\n",
       "  nprune  RMSE      Rsquared   MAE     \n",
       "  2       4.301139  0.6731346  3.313975\n",
       "  3       4.260743  0.6793933  3.274158\n",
       "  4       4.229296  0.6842278  3.224616\n",
       "  5       4.220445  0.6856784  3.202756\n",
       "\n",
       "Tuning parameter 'degree' was held constant at a value of 1\n",
       "RMSE was used to select the optimal model using the smallest value.\n",
       "The final values used for the model were nprune = 5 and degree = 1."
      ]
     },
     "metadata": {},
     "output_type": "display_data"
    }
   ],
   "source": [
    "lm1Fit;\n",
    "print('********************************************************')\n",
    "lm2Fit;\n",
    "print('********************************************************')\n",
    "marsFit"
   ]
  },
  {
   "cell_type": "markdown",
   "metadata": {},
   "source": [
    "As we improve the model from the simple linear regression to MARS, RMSE decrases. It might be a positive sign for our model because the error is getting lower. However, we need to make it sure that we're just training our model using training set and check the rmse by comparing the real value and predicted value for training datasets. In this case, it's dangerous to conclude that the last model is the best one because it might be overfitting to the training data. This means even though this model is predicting well for the data it observed beforehand, it might underperform when predicting the value for unseen data. So, when we pick the model, we need to check the loss term using validation set to convince this model is doing well even for the data it never observed."
   ]
  }
 ],
 "metadata": {
  "kernelspec": {
   "display_name": "R",
   "language": "R",
   "name": "ir"
  },
  "language_info": {
   "codemirror_mode": "r",
   "file_extension": ".r",
   "mimetype": "text/x-r-source",
   "name": "R",
   "pygments_lexer": "r",
   "version": "3.5.0"
  }
 },
 "nbformat": 4,
 "nbformat_minor": 2
}
